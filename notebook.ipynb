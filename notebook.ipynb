{
 "cells": [
  {
   "cell_type": "markdown",
   "metadata": {},
   "source": [
    "\n",
    "## NLP Tool for extracting structured diagnosis and reason from palliative care consult notes.\n",
    "\n",
    "By: Kent McCann MD\n",
    "\n",
    "Website: [Kent McCann MD](https://kmacman.github.io/)"
   ]
  },
  {
   "cell_type": "code",
   "execution_count": 2,
   "metadata": {},
   "outputs": [],
   "source": [
    "# Import the necessary classes. My apologies for the naming conventions currently, fixing them is on my to-do list.\n",
    "from App.classes.ExtractProblem import ProbExtraction\n",
    "from App.classes.ExtractReason import EntExtraction"
   ]
  },
  {
   "cell_type": "code",
   "execution_count": 3,
   "metadata": {},
   "outputs": [
    {
     "name": "stdout",
     "output_type": "stream",
     "text": [
      "prolem type: infectious\n",
      "problem code: 10\n"
     ]
    }
   ],
   "source": [
    "# Example of primary diagnosis extraction\n",
    "consult = '38 year old with sepsis, bacteremia, on pressors, goals of care discussion'\n",
    "prob = ProbExtraction(consult)._determine_primary_diagnosis() # This will return a textual description of the primary disease type\n",
    "prob_code = ProbExtraction(consult).get_problem_code() # This will return the diagnosis code that corresponds to PCQC's data key\n",
    "print('prolem type:', prob)\n",
    "print('problem code:', prob_code)"
   ]
  },
  {
   "cell_type": "code",
   "execution_count": 4,
   "metadata": {},
   "outputs": [
    {
     "name": "stdout",
     "output_type": "stream",
     "text": [
      "consult reasons: [1, 2, <NA>]\n"
     ]
    }
   ],
   "source": [
    "# Example of diagnosis reason extraction, returned as a list of codes. There will always be 3 returned, so <NA> will be returned for some/all if less than 3 reasons are found.\n",
    "# 1: symptoms\n",
    "# 2: Goals of Care\n",
    "# 3: Family Support\n",
    "consult = '38 year old with sepsis, bacteremia, on pressors, goals of care discussion. Sever pain.'\n",
    "reasons = EntExtraction(consult).get_reason_codes()\n",
    "print('consult reasons:', reasons)"
   ]
  },
  {
   "cell_type": "markdown",
   "metadata": {},
   "source": [
    "### Example of applying these modules to a dataframe of consult questions for rapid extraction of structured data:\n",
    "\n",
    "(Example consults were artificially generated. Any names that coincidentally match real individuals are strictly coincidental.)"
   ]
  },
  {
   "cell_type": "code",
   "execution_count": 5,
   "metadata": {},
   "outputs": [],
   "source": [
    "import pandas as pd\n",
    "df = pd.read_csv('Example_Data\\Synthetic Palliative Care Orders 10.csv', index_col=0)"
   ]
  },
  {
   "cell_type": "code",
   "execution_count": 6,
   "metadata": {},
   "outputs": [
    {
     "data": {
      "text/html": [
       "<div>\n",
       "<style scoped>\n",
       "    .dataframe tbody tr th:only-of-type {\n",
       "        vertical-align: middle;\n",
       "    }\n",
       "\n",
       "    .dataframe tbody tr th {\n",
       "        vertical-align: top;\n",
       "    }\n",
       "\n",
       "    .dataframe thead th {\n",
       "        text-align: right;\n",
       "    }\n",
       "</style>\n",
       "<table border=\"1\" class=\"dataframe\">\n",
       "  <thead>\n",
       "    <tr style=\"text-align: right;\">\n",
       "      <th></th>\n",
       "      <th>patient_name</th>\n",
       "      <th>consult_question</th>\n",
       "    </tr>\n",
       "  </thead>\n",
       "  <tbody>\n",
       "    <tr>\n",
       "      <th>0</th>\n",
       "      <td>Heather Bell</td>\n",
       "      <td>Patient recently diagnosed with advanced COPD ...</td>\n",
       "    </tr>\n",
       "    <tr>\n",
       "      <th>1</th>\n",
       "      <td>Larry Wheeler</td>\n",
       "      <td>Patient with advanced COPD experiencing increa...</td>\n",
       "    </tr>\n",
       "    <tr>\n",
       "      <th>2</th>\n",
       "      <td>Tiffany Sutton</td>\n",
       "      <td>Patient with ALS progressing rapidly, now quad...</td>\n",
       "    </tr>\n",
       "    <tr>\n",
       "      <th>3</th>\n",
       "      <td>Mary Newman</td>\n",
       "      <td>Patient with metastatic lung cancer, experienc...</td>\n",
       "    </tr>\n",
       "    <tr>\n",
       "      <th>4</th>\n",
       "      <td>Jeremy Mcguire</td>\n",
       "      <td>Patient with metastatic lung cancer experienci...</td>\n",
       "    </tr>\n",
       "    <tr>\n",
       "      <th>5</th>\n",
       "      <td>Taylor Kennedy</td>\n",
       "      <td>Patient with late-stage ALS, suffering from pa...</td>\n",
       "    </tr>\n",
       "    <tr>\n",
       "      <th>6</th>\n",
       "      <td>Lisa Wilson</td>\n",
       "      <td>Patient with advanced stage COPD, frequent hos...</td>\n",
       "    </tr>\n",
       "    <tr>\n",
       "      <th>7</th>\n",
       "      <td>Caroline Barber</td>\n",
       "      <td>Patient with end-stage COPD experiencing incre...</td>\n",
       "    </tr>\n",
       "    <tr>\n",
       "      <th>8</th>\n",
       "      <td>Rhonda Farmer</td>\n",
       "      <td>Patient with advanced stage 4 COPD, increasing...</td>\n",
       "    </tr>\n",
       "    <tr>\n",
       "      <th>9</th>\n",
       "      <td>Nicholas Bartlett</td>\n",
       "      <td>Patient with advanced COPD now requiring home ...</td>\n",
       "    </tr>\n",
       "  </tbody>\n",
       "</table>\n",
       "</div>"
      ],
      "text/plain": [
       "        patient_name                                   consult_question\n",
       "0       Heather Bell  Patient recently diagnosed with advanced COPD ...\n",
       "1      Larry Wheeler  Patient with advanced COPD experiencing increa...\n",
       "2     Tiffany Sutton  Patient with ALS progressing rapidly, now quad...\n",
       "3        Mary Newman  Patient with metastatic lung cancer, experienc...\n",
       "4     Jeremy Mcguire  Patient with metastatic lung cancer experienci...\n",
       "5     Taylor Kennedy  Patient with late-stage ALS, suffering from pa...\n",
       "6        Lisa Wilson  Patient with advanced stage COPD, frequent hos...\n",
       "7    Caroline Barber  Patient with end-stage COPD experiencing incre...\n",
       "8      Rhonda Farmer  Patient with advanced stage 4 COPD, increasing...\n",
       "9  Nicholas Bartlett  Patient with advanced COPD now requiring home ..."
      ]
     },
     "execution_count": 6,
     "metadata": {},
     "output_type": "execute_result"
    }
   ],
   "source": [
    "# Dataframe without structured data\n",
    "df.head(10)"
   ]
  },
  {
   "cell_type": "code",
   "execution_count": 7,
   "metadata": {},
   "outputs": [],
   "source": [
    "# Applying the NLP logic to extract primary diagnosis and consult reasons (split into 3 columns)\n",
    "df['Diagnosis_Code'] = df['consult_question'].apply(lambda x: ProbExtraction(x).get_problem_code())\n",
    "df['Reason_Code_1'] = df['consult_question'].apply(lambda x: EntExtraction(x).get_reason_codes()[0])\n",
    "df['Reason_Code_2'] = df['consult_question'].apply(lambda x: EntExtraction(x).get_reason_codes()[1])\n",
    "df['Reason_Code_3'] = df['consult_question'].apply(lambda x: EntExtraction(x).get_reason_codes()[2])"
   ]
  },
  {
   "cell_type": "code",
   "execution_count": 8,
   "metadata": {},
   "outputs": [
    {
     "data": {
      "text/html": [
       "<div>\n",
       "<style scoped>\n",
       "    .dataframe tbody tr th:only-of-type {\n",
       "        vertical-align: middle;\n",
       "    }\n",
       "\n",
       "    .dataframe tbody tr th {\n",
       "        vertical-align: top;\n",
       "    }\n",
       "\n",
       "    .dataframe thead th {\n",
       "        text-align: right;\n",
       "    }\n",
       "</style>\n",
       "<table border=\"1\" class=\"dataframe\">\n",
       "  <thead>\n",
       "    <tr style=\"text-align: right;\">\n",
       "      <th></th>\n",
       "      <th>patient_name</th>\n",
       "      <th>consult_question</th>\n",
       "      <th>Diagnosis_Code</th>\n",
       "      <th>Reason_Code_1</th>\n",
       "      <th>Reason_Code_2</th>\n",
       "      <th>Reason_Code_3</th>\n",
       "    </tr>\n",
       "  </thead>\n",
       "  <tbody>\n",
       "    <tr>\n",
       "      <th>0</th>\n",
       "      <td>Heather Bell</td>\n",
       "      <td>Patient recently diagnosed with advanced COPD ...</td>\n",
       "      <td>4</td>\n",
       "      <td>1</td>\n",
       "      <td>2</td>\n",
       "      <td>3</td>\n",
       "    </tr>\n",
       "    <tr>\n",
       "      <th>1</th>\n",
       "      <td>Larry Wheeler</td>\n",
       "      <td>Patient with advanced COPD experiencing increa...</td>\n",
       "      <td>4</td>\n",
       "      <td>1</td>\n",
       "      <td>2</td>\n",
       "      <td>&lt;NA&gt;</td>\n",
       "    </tr>\n",
       "    <tr>\n",
       "      <th>2</th>\n",
       "      <td>Tiffany Sutton</td>\n",
       "      <td>Patient with ALS progressing rapidly, now quad...</td>\n",
       "      <td>9</td>\n",
       "      <td>2</td>\n",
       "      <td>3</td>\n",
       "      <td>&lt;NA&gt;</td>\n",
       "    </tr>\n",
       "    <tr>\n",
       "      <th>3</th>\n",
       "      <td>Mary Newman</td>\n",
       "      <td>Patient with metastatic lung cancer, experienc...</td>\n",
       "      <td>1</td>\n",
       "      <td>1</td>\n",
       "      <td>&lt;NA&gt;</td>\n",
       "      <td>&lt;NA&gt;</td>\n",
       "    </tr>\n",
       "    <tr>\n",
       "      <th>4</th>\n",
       "      <td>Jeremy Mcguire</td>\n",
       "      <td>Patient with metastatic lung cancer experienci...</td>\n",
       "      <td>1</td>\n",
       "      <td>1</td>\n",
       "      <td>&lt;NA&gt;</td>\n",
       "      <td>&lt;NA&gt;</td>\n",
       "    </tr>\n",
       "    <tr>\n",
       "      <th>5</th>\n",
       "      <td>Taylor Kennedy</td>\n",
       "      <td>Patient with late-stage ALS, suffering from pa...</td>\n",
       "      <td>9</td>\n",
       "      <td>1</td>\n",
       "      <td>2</td>\n",
       "      <td>&lt;NA&gt;</td>\n",
       "    </tr>\n",
       "    <tr>\n",
       "      <th>6</th>\n",
       "      <td>Lisa Wilson</td>\n",
       "      <td>Patient with advanced stage COPD, frequent hos...</td>\n",
       "      <td>4</td>\n",
       "      <td>2</td>\n",
       "      <td>&lt;NA&gt;</td>\n",
       "      <td>&lt;NA&gt;</td>\n",
       "    </tr>\n",
       "    <tr>\n",
       "      <th>7</th>\n",
       "      <td>Caroline Barber</td>\n",
       "      <td>Patient with end-stage COPD experiencing incre...</td>\n",
       "      <td>4</td>\n",
       "      <td>1</td>\n",
       "      <td>2</td>\n",
       "      <td>&lt;NA&gt;</td>\n",
       "    </tr>\n",
       "    <tr>\n",
       "      <th>8</th>\n",
       "      <td>Rhonda Farmer</td>\n",
       "      <td>Patient with advanced stage 4 COPD, increasing...</td>\n",
       "      <td>4</td>\n",
       "      <td>2</td>\n",
       "      <td>&lt;NA&gt;</td>\n",
       "      <td>&lt;NA&gt;</td>\n",
       "    </tr>\n",
       "    <tr>\n",
       "      <th>9</th>\n",
       "      <td>Nicholas Bartlett</td>\n",
       "      <td>Patient with advanced COPD now requiring home ...</td>\n",
       "      <td>4</td>\n",
       "      <td>1</td>\n",
       "      <td>2</td>\n",
       "      <td>&lt;NA&gt;</td>\n",
       "    </tr>\n",
       "  </tbody>\n",
       "</table>\n",
       "</div>"
      ],
      "text/plain": [
       "        patient_name                                   consult_question  \\\n",
       "0       Heather Bell  Patient recently diagnosed with advanced COPD ...   \n",
       "1      Larry Wheeler  Patient with advanced COPD experiencing increa...   \n",
       "2     Tiffany Sutton  Patient with ALS progressing rapidly, now quad...   \n",
       "3        Mary Newman  Patient with metastatic lung cancer, experienc...   \n",
       "4     Jeremy Mcguire  Patient with metastatic lung cancer experienci...   \n",
       "5     Taylor Kennedy  Patient with late-stage ALS, suffering from pa...   \n",
       "6        Lisa Wilson  Patient with advanced stage COPD, frequent hos...   \n",
       "7    Caroline Barber  Patient with end-stage COPD experiencing incre...   \n",
       "8      Rhonda Farmer  Patient with advanced stage 4 COPD, increasing...   \n",
       "9  Nicholas Bartlett  Patient with advanced COPD now requiring home ...   \n",
       "\n",
       "   Diagnosis_Code  Reason_Code_1 Reason_Code_2 Reason_Code_3  \n",
       "0               4              1             2             3  \n",
       "1               4              1             2          <NA>  \n",
       "2               9              2             3          <NA>  \n",
       "3               1              1          <NA>          <NA>  \n",
       "4               1              1          <NA>          <NA>  \n",
       "5               9              1             2          <NA>  \n",
       "6               4              2          <NA>          <NA>  \n",
       "7               4              1             2          <NA>  \n",
       "8               4              2          <NA>          <NA>  \n",
       "9               4              1             2          <NA>  "
      ]
     },
     "execution_count": 8,
     "metadata": {},
     "output_type": "execute_result"
    }
   ],
   "source": [
    "#Dataframe with extracted structured data\n",
    "df.head(10)"
   ]
  }
 ],
 "metadata": {
  "kernelspec": {
   "display_name": "medspacy",
   "language": "python",
   "name": "python3"
  },
  "language_info": {
   "codemirror_mode": {
    "name": "ipython",
    "version": 3
   },
   "file_extension": ".py",
   "mimetype": "text/x-python",
   "name": "python",
   "nbconvert_exporter": "python",
   "pygments_lexer": "ipython3",
   "version": "3.11.7"
  }
 },
 "nbformat": 4,
 "nbformat_minor": 2
}
